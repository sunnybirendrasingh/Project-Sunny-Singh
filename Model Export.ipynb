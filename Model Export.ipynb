{
 "cells": [
  {
   "cell_type": "markdown",
   "id": "3e77974d",
   "metadata": {},
   "source": [
    "# Model Export"
   ]
  },
  {
   "cell_type": "code",
   "execution_count": 115,
   "id": "0a0b71eb",
   "metadata": {},
   "outputs": [],
   "source": [
    "import pickle  # using the piccle module to export the final model\n",
    "\n",
    "pickle.dump(Model, open(r'C:\\Users\\sunny1\\Desktop\\Cp2\\new project\\Capstone one\\build.pkl','wb'))"
   ]
  },
  {
   "cell_type": "code",
   "execution_count": null,
   "id": "e9166938",
   "metadata": {},
   "outputs": [],
   "source": []
  }
 ],
 "metadata": {
  "kernelspec": {
   "display_name": "Python 3 (ipykernel)",
   "language": "python",
   "name": "python3"
  },
  "language_info": {
   "codemirror_mode": {
    "name": "ipython",
    "version": 3
   },
   "file_extension": ".py",
   "mimetype": "text/x-python",
   "name": "python",
   "nbconvert_exporter": "python",
   "pygments_lexer": "ipython3",
   "version": "3.10.9"
  }
 },
 "nbformat": 4,
 "nbformat_minor": 5
}
